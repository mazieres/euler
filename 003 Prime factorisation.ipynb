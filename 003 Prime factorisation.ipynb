{
 "metadata": {
  "name": "",
  "signature": "sha256:bb65a89a15b871c855863021d9f3892232e05126761fefd2b3d143d037826951"
 },
 "nbformat": 3,
 "nbformat_minor": 0,
 "worksheets": [
  {
   "cells": [
    {
     "cell_type": "markdown",
     "metadata": {},
     "source": [
      "# Euler problem #3\n",
      "\n",
      "\n",
      "```\n",
      "The prime factors of 13195 are 5, 7, 13 and 29.\n",
      "\n",
      "What is the largest prime factor of the number 600851475143 ?\n",
      "```"
     ]
    },
    {
     "cell_type": "markdown",
     "metadata": {},
     "source": [
      "[Pollard's rho method](http://en.wikipedia.org/wiki/Pollard%27s_rho_algorithm) will need a [greatest common divisor](http://en.wikipedia.org/wiki/Greatest_common_divisor) function, so let's implement Euclide one first."
     ]
    },
    {
     "cell_type": "code",
     "collapsed": false,
     "input": [
      "def gcd(a, b):\n",
      "    \"\"\"\n",
      "    Greatest Common Divisor of a and b (Euclide method).\n",
      "    \"\"\"\n",
      "    while b:\n",
      "        a, b = b, a % b\n",
      "    return a"
     ],
     "language": "python",
     "metadata": {},
     "outputs": [],
     "prompt_number": 28
    },
    {
     "cell_type": "markdown",
     "metadata": {},
     "source": [
      "Euclid algorithm may be slower than some other algorithm like [Lehmer's one](http://en.wikipedia.org/wiki/Lehmer%27s_GCD_algorithm) but is still fast:"
     ]
    },
    {
     "cell_type": "code",
     "collapsed": false,
     "input": [
      "%timeit gcd(9999990000, 123456789104)"
     ],
     "language": "python",
     "metadata": {},
     "outputs": [
      {
       "output_type": "stream",
       "stream": "stdout",
       "text": [
        "100000 loops, best of 3: 1.98 \u00b5s per loop\n"
       ]
      }
     ],
     "prompt_number": 46
    },
    {
     "cell_type": "markdown",
     "metadata": {},
     "source": [
      "[Pollard's rho method](http://en.wikipedia.org/wiki/Pollard%27s_rho_algorithm) factorising a given number:"
     ]
    },
    {
     "cell_type": "code",
     "collapsed": false,
     "input": [
      "def pollardrho(n):\n",
      "    \"\"\"\n",
      "    Prime factorisation of a given number, Pollard's Rho method.\n",
      "    \"\"\"\n",
      "    f = lambda z: z * z + 1\n",
      "    x, y, d = 2, 2, 1\n",
      "    while d == 1:\n",
      "        x = f(x) % n\n",
      "        y = f(f(y)) % n\n",
      "        d = gcd(x - y, n)\n",
      "    return [d, n // d]"
     ],
     "language": "python",
     "metadata": {},
     "outputs": [],
     "prompt_number": 19
    },
    {
     "cell_type": "markdown",
     "metadata": {},
     "source": [
      "Basic is_prime method, will be used later to check the output of Pollard's Rho method."
     ]
    },
    {
     "cell_type": "code",
     "collapsed": false,
     "input": [
      "def is_prime(n):\n",
      "    import math\n",
      "    if n < 7:\n",
      "        return n in (2, 3, 5)\n",
      "    if n & 1 == 0:\n",
      "        return False\n",
      "    k = 3\n",
      "    r = math.sqrt(n) + 1\n",
      "    while k <= r:\n",
      "        if n % k == 0:\n",
      "            return False\n",
      "        k += 2\n",
      "    return True"
     ],
     "language": "python",
     "metadata": {},
     "outputs": [],
     "prompt_number": 22
    },
    {
     "cell_type": "code",
     "collapsed": false,
     "input": [
      "%timeit is_prime(8589935681)"
     ],
     "language": "python",
     "metadata": {},
     "outputs": [
      {
       "output_type": "stream",
       "stream": "stdout",
       "text": [
        "100 loops, best of 3: 11 ms per loop\n"
       ]
      }
     ],
     "prompt_number": 54
    },
    {
     "cell_type": "code",
     "collapsed": false,
     "input": [
      "is_prime(8589935681)"
     ],
     "language": "python",
     "metadata": {},
     "outputs": [
      {
       "metadata": {},
       "output_type": "pyout",
       "prompt_number": 55,
       "text": [
        "True"
       ]
      }
     ],
     "prompt_number": 55
    },
    {
     "cell_type": "markdown",
     "metadata": {},
     "source": [
      "Ok, is_prime is a bit slow, let's try the [Miller Rabin](http://en.wikipedia.org/wiki/Miller%E2%80%93Rabin_primality_test) algorithm thanks to [the primes python module](https://code.google.com/p/pyprimes/source/browse/src/pyprimes.py)"
     ]
    },
    {
     "cell_type": "code",
     "collapsed": false,
     "input": [
      "import random\n",
      "def factor2(n):\n",
      "    \"\"\"Factorise positive integer n as d * 2 ** i, and return (d, i).\n",
      "\n",
      "    >>> _factor2(768)\n",
      "    (3, 8)\n",
      "    >>> _factor2(18432)\n",
      "    (9, 11)\n",
      "\n",
      "    Private function used internally by ``miller_rabin``.\n",
      "    \"\"\"\n",
      "    assert n > 0 and int(n) == n\n",
      "    i = 0\n",
      "    d = n\n",
      "    while 1:\n",
      "        q, r = divmod(d, 2)\n",
      "        if r == 1:\n",
      "            break\n",
      "        i += 1\n",
      "        d = q\n",
      "    assert d % 2 == 1\n",
      "    assert d * 2 ** i == n\n",
      "    return d, i\n",
      "\n",
      "def base_to_bases(base, n):\n",
      "    if isinstance(base, tuple):\n",
      "        bases = base\n",
      "    else:\n",
      "        bases = (base,)\n",
      "    for b in bases:\n",
      "        if not 1 <= b < n:\n",
      "            # Note that b=1 is a degenerate case which is always a prime\n",
      "            # witness for both the Fermat and Miller-Rabin tests. I mention\n",
      "            # this for completeness, not because we need to do anything\n",
      "            # about it.\n",
      "            raise ValueError('base %d out of range 1...%d' % (b, n-1))\n",
      "    return bases\n",
      "\n",
      "def is_composite(b, d, s, n):\n",
      "    \"\"\"is_composite(b, d, s, n) -> True|False\n",
      "\n",
      "    Tests base b to see if it is a witness for n being composite. Returns\n",
      "    True if n is definitely composite, otherwise False if it *may* be prime.\n",
      "\n",
      "    >>> is_composite(4, 3, 7, 385)\n",
      "    True\n",
      "    >>> is_composite(221, 3, 7, 385)\n",
      "    False\n",
      "    \n",
      "    but...\n",
      "    >>> is_composite(288, 1, 1, 3)\n",
      "    True\n",
      "    That seems strange, it may be false ?2\n",
      "\n",
      "    Private function used internally by ``miller_rabin``.\n",
      "    \"\"\"\n",
      "    assert d * 2 ** s == n - 1\n",
      "    if pow(b, d, n) == 1:\n",
      "        return False\n",
      "    for i in range(s):\n",
      "        if pow(b, 2 ** i * d, n) == n - 1:\n",
      "            return False\n",
      "    return True\n",
      "\n",
      "def isprime(n, trials=25, warn=False):\n",
      "    \"\"\"Return True if n is a prime number, and False if it is not.\n",
      "\n",
      "    >>> isprime(101)\n",
      "    True\n",
      "    >>> isprime(102)\n",
      "    False\n",
      "\n",
      "    ==========  =======================================================\n",
      "    Argument    Description\n",
      "    ==========  =======================================================\n",
      "    n           Number being tested for primality.\n",
      "    trials      Count of primality tests to perform (default 25).\n",
      "    warn        If true, warn on inexact results. (Default is false.)\n",
      "    ==========  =======================================================\n",
      "\n",
      "    For values of ``n`` under approximately 341 trillion, this function is\n",
      "    exact and the arguments ``trials`` and ``warn`` are ignored.\n",
      "\n",
      "    Above this cut-off value, this function may be probabilistic with a small\n",
      "    chance of wrongly reporting a composite (non-prime) number as prime. Such\n",
      "    composite numbers wrongly reported as prime are \"false positive\" errors.\n",
      "\n",
      "    The argument ``trials`` controls  the risk of a false positive error. The\n",
      "    larger number of trials, the less the chance of an error (and the slower\n",
      "    the function). With the default value of 25, you can expect roughly one\n",
      "    such error every million trillion tests, which in practical terms is\n",
      "    essentially \"never\".\n",
      "\n",
      "    ``isprime`` cannot give a false negative error: if it reports a number is\n",
      "    composite, it is certainly composite, but if it reports a number is prime,\n",
      "    it may be only probably prime. If you pass a true value for argument\n",
      "    ``warn``, then a warning will be raised if the result is probabilistic.\n",
      "    \"\"\"\n",
      "    # Deal with trivial cases first.\n",
      "    if n < 2:\n",
      "        return False\n",
      "    elif n == 2:\n",
      "        return True\n",
      "    elif n%2 == 0:\n",
      "        return False\n",
      "    elif n <= 7:  # 3, 5, 7\n",
      "        return True\n",
      "    is_probabilistic, bases = choose_bases(n, trials)\n",
      "    is_prime = miller_rabin(n, bases)\n",
      "    if is_prime and is_probabilistic and warn:\n",
      "        import warnings\n",
      "        warnings.warn(\"number is only probably prime not certainly prime\")\n",
      "    return is_prime\n",
      "\n",
      "\n",
      "def choose_bases(n, count):\n",
      "    \"\"\"Choose appropriate bases for the Miller-Rabin primality test.\n",
      "\n",
      "    If n is small enough, returns a tuple of bases which are provably\n",
      "    deterministic for that n. If n is too large, return a selection of\n",
      "    possibly random bases.\n",
      "\n",
      "    With k distinct Miller-Rabin tests, the probability of a false\n",
      "    positive result is no more than 1/(4**k).\n",
      "    \"\"\"\n",
      "    # The Miller-Rabin test is deterministic and completely accurate for\n",
      "    # moderate sizes of n using a surprisingly tiny number of tests.\n",
      "    # See: Pomerance, Selfridge and Wagstaff (1980), and Jaeschke (1993)\n",
      "    # http://en.wikipedia.org/wiki/Miller%E2%80%93Rabin_primality_test\n",
      "    prob = False\n",
      "    if n < 1373653:  # ~1.3 million\n",
      "        bases = (2, 3)\n",
      "    elif n < 9080191:  # ~9.0 million\n",
      "        bases = (31, 73)\n",
      "    elif n < 4759123141:  # ~4.7 billion\n",
      "        # Note to self: checked up to approximately 394 million in 9 hours.\n",
      "        bases = (2, 7, 61)\n",
      "    elif n < 2152302898747:  # ~2.1 trillion\n",
      "        bases = (2, 3, 5, 7, 11)\n",
      "    elif n < 3474749660383:  # ~3.4 trillion\n",
      "        bases = (2, 3, 5, 7, 11, 13)\n",
      "    elif n < 341550071728321:  # ~341 trillion\n",
      "        bases = (2, 3, 5, 7, 11, 13, 17)\n",
      "    else:\n",
      "        # n is sufficiently large that we have to use a probabilistic test.\n",
      "        prob = True\n",
      "        bases = tuple([random.randint(2, n-1) for _ in range(count)])\n",
      "        # FIXME Because bases are chosen at random, there may be duplicates\n",
      "        # although with extremely small probability given the size of n.\n",
      "        # FIXME Is it worthwhile to special case some of the lower, easier\n",
      "        # bases? bases = [2, 3, 5, 7, 11, 13, 17] + [random... ]?\n",
      "        # Note: we can always be deterministic, no matter how large N is, by\n",
      "        # exhaustive testing against each i in the inclusive range\n",
      "        # 1 ... min(n-1, floor(2*(ln N)**2)). We don't do this, because it is\n",
      "        # expensive for large N, and of no real practical benefit.\n",
      "    return prob, bases\n",
      "\n",
      "def miller_rabin(n, base=(2, )):\n",
      "    \"\"\"miller_rabin(integer [, base]) -> True|False\n",
      "\n",
      "    ``miller_rabin(n, base)`` is a probabilistic test for primality which\n",
      "    returns True if integer n is a strong probable prime to the given integer\n",
      "    base, otherwise n is definitely composite and False is returned.\n",
      "\n",
      "    ``base`` must be a positive integer between 1 and n-1 inclusive, or a\n",
      "    tuple of such bases. By default, base=2.\n",
      "\n",
      "    If ``miller_rabin`` returns False, that is definite proof that n is\n",
      "    composite: there are no false negatives. However, if it returns True,\n",
      "    that is only provisional evidence that n is prime:\n",
      "\n",
      "    >>> miller_rabin(99, 7)\n",
      "    False\n",
      "    >>> miller_rabin(29, 7)\n",
      "    True\n",
      "\n",
      "    We can conclude from this that 99 is definitely composite, and that 29 is\n",
      "    possibly prime.\n",
      "\n",
      "    As the Miller-Rabin test is probabilistic, composite numbers will\n",
      "    sometimes pass one or more tests:\n",
      "\n",
      "    >>> miller_rabin(3*11*17, 103)  # 3*11*17=561, the 1st Carmichael number.\n",
      "    True\n",
      "\n",
      "    You can perform multiple tests with a single call by passing a tuple of\n",
      "    ints as ``base``. The number must pass the Miller-Rabin test for each of\n",
      "    the bases before it will return True. If any test fails, ``miller_rabin``\n",
      "    will return False.\n",
      "\n",
      "    >>> miller_rabin(41041, (16, 92, 100, 256))  # 41041 = 7*11*13*41\n",
      "    True\n",
      "    >>> miller_rabin(41041, (16, 92, 100, 256, 288))\n",
      "    False\n",
      "\n",
      "    If a number passes ``k`` Miller-Rabin tests, we can conclude that the\n",
      "    probability that it is a prime number is at least ``1 - (1/4**k)``.\n",
      "    \"\"\"\n",
      "    # http://en.wikipedia.org/wiki/Miller%E2%80%93Rabin_primality_test\n",
      "    # Deal with the trivial cases.\n",
      "    bases = base_to_bases(base, n)\n",
      "    if n < 2:\n",
      "        return False\n",
      "    if n == 2:\n",
      "        return True\n",
      "    elif n % 2 == 0:\n",
      "        return False\n",
      "    # Now perform the Miller-Rabin test proper.\n",
      "    # Start by writing n - 1 as 2 ** s * d.\n",
      "    d, s = factor2(n - 1)\n",
      "    for a in bases:\n",
      "        if is_composite(a, d, s, n):\n",
      "            return False  # n is definitely composite.\n",
      "    # If we get here, all of the bases are witnesses for n being prime.\n",
      "    return True"
     ],
     "language": "python",
     "metadata": {},
     "outputs": [],
     "prompt_number": 107
    },
    {
     "cell_type": "code",
     "collapsed": false,
     "input": [
      "print(isprime(4125636888562548868221559797461449))\n",
      "print(isprime(43143988327398957279342419750374600193))\n",
      "print(isprime(359334085968622831041960188598043661065388726959079837))"
     ],
     "language": "python",
     "metadata": {},
     "outputs": [
      {
       "output_type": "stream",
       "stream": "stdout",
       "text": [
        "True\n",
        "True\n",
        "True\n"
       ]
      }
     ],
     "prompt_number": 117
    },
    {
     "cell_type": "code",
     "collapsed": false,
     "input": [
      "%timeit isprime(359334085968622831041960188598043661065388726959079837)"
     ],
     "language": "python",
     "metadata": {},
     "outputs": [
      {
       "output_type": "stream",
       "stream": "stdout",
       "text": [
        "100 loops, best of 3: 5.45 ms per loop\n"
       ]
      }
     ],
     "prompt_number": 118
    },
    {
     "cell_type": "markdown",
     "metadata": {},
     "source": [
      "Last but not least, to get the factorisation of a given number, we'll need to factorize its prime roots:"
     ]
    },
    {
     "cell_type": "code",
     "collapsed": false,
     "input": [
      "def factorize(iterable):\n",
      "    last = None\n",
      "    inc = 1\n",
      "    for i in iterable:\n",
      "        if last is None:\n",
      "            last = i\n",
      "        else:\n",
      "            if last == i:\n",
      "                inc += 1\n",
      "            else:\n",
      "                yield last, inc\n",
      "                inc = 1\n",
      "                last = i\n",
      "    if last is not None:\n",
      "        yield last, inc\n"
     ],
     "language": "python",
     "metadata": {},
     "outputs": [],
     "prompt_number": 24
    },
    {
     "cell_type": "markdown",
     "metadata": {},
     "source": [
      "Last but not least, let's use precious pieces to factorize a number in prime factors:"
     ]
    },
    {
     "cell_type": "code",
     "collapsed": false,
     "input": [
      "import math\n",
      "def facteursdiv2(n):\n",
      "    \"\"\"Split n by two using divisions\"\"\"\n",
      "    pp = [2, 3, 5, 7, 11]\n",
      "    racn = int(math.sqrt(n)) + 1\n",
      "    for p in pp:\n",
      "        if p > racn:\n",
      "            return [n, 1]  # n is prime\n",
      "        if n % p == 0:\n",
      "            return [p, n // p]  # decomposition found\n",
      "    p = pp[-1] + 2\n",
      "    while p <= racn:\n",
      "        if n % p == 0:\n",
      "            return [p, n // p]  # decomposition found\n",
      "        p += 2\n",
      "    # n is prime\n",
      "    return [n, 1]\n",
      "\n",
      "\n",
      "def prime_factors(n):\n",
      "    \"\"\"\n",
      "    List prime factors of n.\n",
      "    \"\"\"\n",
      "    if n == 1:\n",
      "        return [(1, 1)]\n",
      "    R = []  # Prime factors found\n",
      "    P = [n]  # Computation stack\n",
      "    while P != []:\n",
      "        x = P.pop(-1)\n",
      "        if isprime(x):\n",
      "            R.append(x)\n",
      "        else:\n",
      "            a, b = pollardrho(x)\n",
      "            if a == 1 or b == 1:\n",
      "                a, b = facteursdiv2(x)\n",
      "            P.append(a)\n",
      "            P.append(b)\n",
      "    R.sort()\n",
      "    return factorize(R)"
     ],
     "language": "python",
     "metadata": {},
     "outputs": [],
     "prompt_number": 128
    },
    {
     "cell_type": "code",
     "collapsed": false,
     "input": [
      "print(list(prime_factors(101107 * 101111 * 101159 * 101161 * 101173 * 265252859812191058636308479999999)))\n",
      "%timeit prime_factors(101107 * 101111 * 101159 * 101161 * 101173 * 265252859812191058636308479999999)"
     ],
     "language": "python",
     "metadata": {},
     "outputs": [
      {
       "output_type": "stream",
       "stream": "stdout",
       "text": [
        "[(101107, 1), (101111, 1), (101159, 1), (101161, 1), (101173, 1), (265252859812191058636308479999999, 1)]\n",
        "10 loops, best of 3: 27.4 ms per loop"
       ]
      },
      {
       "output_type": "stream",
       "stream": "stdout",
       "text": [
        "\n"
       ]
      }
     ],
     "prompt_number": 146
    },
    {
     "cell_type": "code",
     "collapsed": false,
     "input": [
      "print(list(prime_factors(600851475143)))"
     ],
     "language": "python",
     "metadata": {},
     "outputs": [
      {
       "output_type": "stream",
       "stream": "stdout",
       "text": [
        "[(71, 1), (839, 1), (1471, 1), (6857, 1)]\n"
       ]
      }
     ],
     "prompt_number": 142
    },
    {
     "cell_type": "markdown",
     "metadata": {},
     "source": [
      "Project euler solution is *6857* !"
     ]
    }
   ],
   "metadata": {}
  }
 ]
}